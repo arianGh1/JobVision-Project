{
 "cells": [
  {
   "cell_type": "code",
   "execution_count": 1,
   "id": "5bc6a4aa-3926-4685-a29c-29fabd3a2567",
   "metadata": {
    "tags": []
   },
   "outputs": [],
   "source": [
    "import time\n",
    "import requests\n",
    "from selenium import webdriver\n",
    "from bs4 import BeautifulSoup\n",
    "from urllib.parse import urljoin\n",
    "import csv\n",
    "import pickle\n",
    "import numpy as np\n",
    "import pandas as pd\n",
    "import pickle\n",
    "import jdatetime\n",
    "#starting date = 29 tir"
   ]
  },
  {
   "cell_type": "code",
   "execution_count": 3,
   "id": "ce8e24da-9011-47c6-8965-42a82e3b763b",
   "metadata": {
    "tags": []
   },
   "outputs": [
    {
     "name": "stderr",
     "output_type": "stream",
     "text": [
      "C:\\Users\\Arian_Gh\\AppData\\Local\\Temp\\ipykernel_13552\\3477112522.py:1: DtypeWarning: Columns (14) have mixed types. Specify dtype option on import or set low_memory=False.\n",
      "  df = pd.read_csv(\"data.csv\")\n"
     ]
    }
   ],
   "source": [
    "df = pd.read_csv(\"data.csv\")"
   ]
  },
  {
   "cell_type": "code",
   "execution_count": 5,
   "id": "0b2a3e17-7b8f-4cfd-83b7-b8ba6aa402ef",
   "metadata": {
    "tags": []
   },
   "outputs": [
    {
     "data": {
      "text/plain": [
       "array(['11 تا 50 نفر', '51 تا 200 نفر', 'بیش از 5000 نفر',\n",
       "       '501 تا 1000 نفر', '201 تا 500 نفر', '1001 تا 5000 نفر',\n",
       "       'زیر 10 نفر', '11 - 50 employees', '501 - 1000 employees', nan,\n",
       "       '1001 - 5000 employees', '51 - 200 employees',\n",
       "       '201 - 500 employees', 'More than 5001 employees',\n",
       "       'Less than 10 employees'], dtype=object)"
      ]
     },
     "execution_count": 5,
     "metadata": {},
     "output_type": "execute_result"
    }
   ],
   "source": [
    "df[\"company_size\"].unique()"
   ]
  },
  {
   "cell_type": "code",
   "execution_count": 6,
   "id": "e446d581-2c88-4fd7-9976-3dfed63885fc",
   "metadata": {
    "tags": []
   },
   "outputs": [
    {
     "data": {
      "text/plain": [
       "Index(['company_size', 'education', 'gender', 'salary', 'workdays', 'language',\n",
       "       'business_trip', 'age', 'industry', 'bonus', 'location', 'ad_name',\n",
       "       'softwares', 'military_services', 'experience', 'date'],\n",
       "      dtype='object')"
      ]
     },
     "execution_count": 6,
     "metadata": {},
     "output_type": "execute_result"
    }
   ],
   "source": [
    "df.columns"
   ]
  },
  {
   "cell_type": "code",
   "execution_count": 7,
   "id": "1e27c36b-ab8e-4928-a88a-de26808c4da8",
   "metadata": {
    "tags": []
   },
   "outputs": [],
   "source": [
    "# A dictionary to map Persian/English categories to their midpoints\n",
    "size_mapping = {\n",
    "    '11 تا 50 نفر': '30', \n",
    "    '51 تا 200 نفر': '125', \n",
    "    'بیش از 5000 نفر': '5000+', \n",
    "    '501 تا 1000 نفر': '750', \n",
    "    '201 تا 500 نفر': '350', \n",
    "    '1001 تا 5000 نفر': '3000', \n",
    "    'زیر 10 نفر': '<10', \n",
    "    '11 - 50 employees': '30', \n",
    "    '501 - 1000 employees': '750', \n",
    "    '1001 - 5000 employees': '3000', \n",
    "    '51 - 200 employees': '125', \n",
    "    '201 - 500 employees': '350', \n",
    "    'More than 5001 employees': '5000+', \n",
    "    'Less than 10 employees': '<10'\n",
    "}\n",
    "\n",
    "# Replace the values using the map\n",
    "df['company_size'] = df['company_size'].map(size_mapping)\n",
    "\n",
    "# For NaN values, you could either fill them with a placeholder like 'Unknown'\n",
    "df['company_size'].fillna('Unknown', inplace=True)"
   ]
  },
  {
   "cell_type": "code",
   "execution_count": 10,
   "id": "a0dcf5c9-32b9-488d-9f60-e081012b40cc",
   "metadata": {
    "tags": []
   },
   "outputs": [],
   "source": [
    "import numpy as np\n",
    "\n",
    "def process_age(age):\n",
    "    if pd.isnull(age):\n",
    "        return [np.nan, np.nan]\n",
    "    \n",
    "    if ' - ' in age:\n",
    "        min_age, max_age = age.split(' - ')\n",
    "        return [int(min_age), int(max_age.split()[0])]\n",
    "    \n",
    "    if age.startswith('از '):\n",
    "        min_age = age.split()[1]\n",
    "        return [int(min_age), np.nan]\n",
    "\n",
    "    if age.startswith('تا '):\n",
    "        max_age = age.split()[1]\n",
    "        return [np.nan, int(max_age)]\n",
    "    \n",
    "    if age.endswith('Years Old'):\n",
    "        if 'Until' in age:\n",
    "            max_age = age.split()[1]\n",
    "            return [np.nan, int(max_age)]\n",
    "        elif 'From' in age:\n",
    "            min_age = age.split()[1]\n",
    "            return [int(min_age), np.nan]\n",
    "        else:\n",
    "            min_age, max_age = age.split('-')\n",
    "            return [int(min_age.strip()), int(max_age.split()[0].strip())]\n",
    "\n",
    "df['min_age'], df['max_age'] = zip(*df['age'].map(process_age))"
   ]
  },
  {
   "cell_type": "code",
   "execution_count": 15,
   "id": "b07fa91f-732d-449d-b468-dcc838c1a542",
   "metadata": {
    "tags": []
   },
   "outputs": [],
   "source": [
    "del df[\"age\"]"
   ]
  },
  {
   "cell_type": "code",
   "execution_count": 17,
   "id": "5f318b00-7d9b-4190-986b-91d26c594cfd",
   "metadata": {
    "tags": []
   },
   "outputs": [
    {
     "data": {
      "text/html": [
       "<div>\n",
       "<style scoped>\n",
       "    .dataframe tbody tr th:only-of-type {\n",
       "        vertical-align: middle;\n",
       "    }\n",
       "\n",
       "    .dataframe tbody tr th {\n",
       "        vertical-align: top;\n",
       "    }\n",
       "\n",
       "    .dataframe thead th {\n",
       "        text-align: right;\n",
       "    }\n",
       "</style>\n",
       "<table border=\"1\" class=\"dataframe\">\n",
       "  <thead>\n",
       "    <tr style=\"text-align: right;\">\n",
       "      <th></th>\n",
       "      <th>company_size</th>\n",
       "      <th>education</th>\n",
       "      <th>gender</th>\n",
       "      <th>salary</th>\n",
       "      <th>workdays</th>\n",
       "      <th>language</th>\n",
       "      <th>business_trip</th>\n",
       "      <th>industry</th>\n",
       "      <th>bonus</th>\n",
       "      <th>location</th>\n",
       "      <th>ad_name</th>\n",
       "      <th>softwares</th>\n",
       "      <th>military_services</th>\n",
       "      <th>experience</th>\n",
       "      <th>date</th>\n",
       "      <th>min_age</th>\n",
       "      <th>max_age</th>\n",
       "    </tr>\n",
       "  </thead>\n",
       "  <tbody>\n",
       "    <tr>\n",
       "      <th>0</th>\n",
       "      <td>30</td>\n",
       "      <td>['کارشناسی| مالی و حسابداری']</td>\n",
       "      <td>ترجیحاً خانم</td>\n",
       "      <td>NaN</td>\n",
       "      <td>شنبه تا چهارشنبه 8 الی 16</td>\n",
       "      <td>['انگلیسی| متوسط ۵۰٪']</td>\n",
       "      <td>-</td>\n",
       "      <td>نفت، گاز و پتروشیمی</td>\n",
       "      <td>-</td>\n",
       "      <td>تهران، فاطمی</td>\n",
       "      <td>کارشناس حسابداری</td>\n",
       "      <td>['Microsoft Word| متوسط', 'Microsoft Excel| مت...</td>\n",
       "      <td>NaN</td>\n",
       "      <td>NaN</td>\n",
       "      <td>1402-03-23</td>\n",
       "      <td>23.0</td>\n",
       "      <td>33.0</td>\n",
       "    </tr>\n",
       "    <tr>\n",
       "      <th>1</th>\n",
       "      <td>125</td>\n",
       "      <td>NaN</td>\n",
       "      <td>فقط آقا</td>\n",
       "      <td>12 - 10 میلیون تومان</td>\n",
       "      <td>شنبه تا چهارشنبه 8 تا  17:33، پنجشنبه 8:30 تا ...</td>\n",
       "      <td>NaN</td>\n",
       "      <td>-</td>\n",
       "      <td>تولیدی / صنعتی</td>\n",
       "      <td>پاداش  -بیمه درمان تکمیلی</td>\n",
       "      <td>رباط کریم</td>\n",
       "      <td>کارگر ساده - آقا</td>\n",
       "      <td>NaN</td>\n",
       "      <td>اتمام خدمت سربازی و یا معافیت از آن الزامی است</td>\n",
       "      <td>NaN</td>\n",
       "      <td>1402-02-26</td>\n",
       "      <td>23.0</td>\n",
       "      <td>45.0</td>\n",
       "    </tr>\n",
       "    <tr>\n",
       "      <th>2</th>\n",
       "      <td>5000+</td>\n",
       "      <td>NaN</td>\n",
       "      <td>تفاوتی ندارد</td>\n",
       "      <td>NaN</td>\n",
       "      <td>شنبه تا چهارشنبه 7 الی 16</td>\n",
       "      <td>NaN</td>\n",
       "      <td>-</td>\n",
       "      <td>بانکداری</td>\n",
       "      <td>وام  -پاداش  -بیمه درمان تکمیلی  -تسهیلات تفری...</td>\n",
       "      <td>تهران، آرژانتین</td>\n",
       "      <td>کارشناس موشن گرافیست</td>\n",
       "      <td>['Adobe Photoshop| پیشرفته', 'Adobe Illustrato...</td>\n",
       "      <td>اتمام خدمت سربازی و یا معافیت از آن الزامی است</td>\n",
       "      <td>NaN</td>\n",
       "      <td>1402-02-11</td>\n",
       "      <td>NaN</td>\n",
       "      <td>35.0</td>\n",
       "    </tr>\n",
       "    <tr>\n",
       "      <th>3</th>\n",
       "      <td>30</td>\n",
       "      <td>NaN</td>\n",
       "      <td>تفاوتی ندارد</td>\n",
       "      <td>20 - 15 میلیون تومان</td>\n",
       "      <td>10 تا 20</td>\n",
       "      <td>['انگلیسی| متوسط ۵۰٪']</td>\n",
       "      <td>-</td>\n",
       "      <td>سرمایه گذاری و مالی</td>\n",
       "      <td>پورسانت</td>\n",
       "      <td>تهران، جردن</td>\n",
       "      <td>مدیر اجرایی</td>\n",
       "      <td>['Microsoft Word| متوسط', 'Microsoft Powerpoin...</td>\n",
       "      <td>NaN</td>\n",
       "      <td>NaN</td>\n",
       "      <td>1402-02-12</td>\n",
       "      <td>25.0</td>\n",
       "      <td>43.0</td>\n",
       "    </tr>\n",
       "    <tr>\n",
       "      <th>4</th>\n",
       "      <td>750</td>\n",
       "      <td>NaN</td>\n",
       "      <td>فقط آقا</td>\n",
       "      <td>NaN</td>\n",
       "      <td>شیفت شب  ( 3 روز در هفته )</td>\n",
       "      <td>['انگلیسی| متوسط ۵۰٪']</td>\n",
       "      <td>-</td>\n",
       "      <td>سرمایه گذاری و مالی</td>\n",
       "      <td>بیمه درمان تکمیلی  -اتاق بازی  -ناهار  -میان و...</td>\n",
       "      <td>کرج، حیدرآباد</td>\n",
       "      <td>کارشناس مرکز تماس ( شیفت شب) - آقا</td>\n",
       "      <td>NaN</td>\n",
       "      <td>اتمام خدمت سربازی و یا معافیت از آن الزامی است</td>\n",
       "      <td>NaN</td>\n",
       "      <td>1402-04-06</td>\n",
       "      <td>20.0</td>\n",
       "      <td>30.0</td>\n",
       "    </tr>\n",
       "  </tbody>\n",
       "</table>\n",
       "</div>"
      ],
      "text/plain": [
       "  company_size                      education        gender   \n",
       "0           30  ['کارشناسی| مالی و حسابداری']  ترجیحاً خانم  \\\n",
       "1          125                            NaN       فقط آقا   \n",
       "2        5000+                            NaN  تفاوتی ندارد   \n",
       "3           30                            NaN  تفاوتی ندارد   \n",
       "4          750                            NaN       فقط آقا   \n",
       "\n",
       "                 salary                                           workdays   \n",
       "0                   NaN                          شنبه تا چهارشنبه 8 الی 16  \\\n",
       "1  12 - 10 میلیون تومان  شنبه تا چهارشنبه 8 تا  17:33، پنجشنبه 8:30 تا ...   \n",
       "2                   NaN                          شنبه تا چهارشنبه 7 الی 16   \n",
       "3  20 - 15 میلیون تومان                                           10 تا 20   \n",
       "4                   NaN                         شیفت شب  ( 3 روز در هفته )   \n",
       "\n",
       "                 language business_trip             industry   \n",
       "0  ['انگلیسی| متوسط ۵۰٪']             -  نفت، گاز و پتروشیمی  \\\n",
       "1                     NaN             -       تولیدی / صنعتی   \n",
       "2                     NaN             -             بانکداری   \n",
       "3  ['انگلیسی| متوسط ۵۰٪']             -  سرمایه گذاری و مالی   \n",
       "4  ['انگلیسی| متوسط ۵۰٪']             -  سرمایه گذاری و مالی   \n",
       "\n",
       "                                               bonus         location   \n",
       "0                                                  -     تهران، فاطمی  \\\n",
       "1                          پاداش  -بیمه درمان تکمیلی        رباط کریم   \n",
       "2  وام  -پاداش  -بیمه درمان تکمیلی  -تسهیلات تفری...  تهران، آرژانتین   \n",
       "3                                            پورسانت      تهران، جردن   \n",
       "4  بیمه درمان تکمیلی  -اتاق بازی  -ناهار  -میان و...    کرج، حیدرآباد   \n",
       "\n",
       "                              ad_name   \n",
       "0                    کارشناس حسابداری  \\\n",
       "1                    کارگر ساده - آقا   \n",
       "2                کارشناس موشن گرافیست   \n",
       "3                         مدیر اجرایی   \n",
       "4  کارشناس مرکز تماس ( شیفت شب) - آقا   \n",
       "\n",
       "                                           softwares   \n",
       "0  ['Microsoft Word| متوسط', 'Microsoft Excel| مت...  \\\n",
       "1                                                NaN   \n",
       "2  ['Adobe Photoshop| پیشرفته', 'Adobe Illustrato...   \n",
       "3  ['Microsoft Word| متوسط', 'Microsoft Powerpoin...   \n",
       "4                                                NaN   \n",
       "\n",
       "                                military_services experience        date   \n",
       "0                                             NaN        NaN  1402-03-23  \\\n",
       "1  اتمام خدمت سربازی و یا معافیت از آن الزامی است        NaN  1402-02-26   \n",
       "2  اتمام خدمت سربازی و یا معافیت از آن الزامی است        NaN  1402-02-11   \n",
       "3                                             NaN        NaN  1402-02-12   \n",
       "4  اتمام خدمت سربازی و یا معافیت از آن الزامی است        NaN  1402-04-06   \n",
       "\n",
       "   min_age  max_age  \n",
       "0     23.0     33.0  \n",
       "1     23.0     45.0  \n",
       "2      NaN     35.0  \n",
       "3     25.0     43.0  \n",
       "4     20.0     30.0  "
      ]
     },
     "execution_count": 17,
     "metadata": {},
     "output_type": "execute_result"
    }
   ],
   "source": [
    "df.head()"
   ]
  },
  {
   "cell_type": "code",
   "execution_count": 18,
   "id": "51a1f704-6edb-4a92-853f-4501bd0f6074",
   "metadata": {
    "tags": []
   },
   "outputs": [],
   "source": [
    "df.to_csv(\"Job.csv\",index=False)"
   ]
  },
  {
   "cell_type": "code",
   "execution_count": null,
   "id": "9a46baa1-e2ab-4b5f-a1e7-53ad226bb771",
   "metadata": {},
   "outputs": [],
   "source": []
  }
 ],
 "metadata": {
  "kernelspec": {
   "display_name": "Python 3 (ipykernel)",
   "language": "python",
   "name": "python3"
  },
  "language_info": {
   "codemirror_mode": {
    "name": "ipython",
    "version": 3
   },
   "file_extension": ".py",
   "mimetype": "text/x-python",
   "name": "python",
   "nbconvert_exporter": "python",
   "pygments_lexer": "ipython3",
   "version": "3.10.11"
  }
 },
 "nbformat": 4,
 "nbformat_minor": 5
}
