{
 "cells": [
  {
   "cell_type": "code",
   "execution_count": 1,
   "id": "5bc6a4aa-3926-4685-a29c-29fabd3a2567",
   "metadata": {
    "tags": []
   },
   "outputs": [],
   "source": [
    "import time\n",
    "import requests\n",
    "from selenium import webdriver\n",
    "from bs4 import BeautifulSoup\n",
    "from urllib.parse import urljoin\n",
    "import csv\n",
    "import pickle\n",
    "import numpy as np\n",
    "import pandas as pd\n",
    "import pickle\n",
    "import jdatetime\n",
    "#starting date = 29 tir"
   ]
  },
  {
   "cell_type": "code",
   "execution_count": 3,
   "id": "ce8e24da-9011-47c6-8965-42a82e3b763b",
   "metadata": {
    "tags": []
   },
   "outputs": [
    {
     "name": "stderr",
     "output_type": "stream",
     "text": [
      "C:\\Users\\Arian_Gh\\AppData\\Local\\Temp\\ipykernel_13552\\3477112522.py:1: DtypeWarning: Columns (14) have mixed types. Specify dtype option on import or set low_memory=False.\n",
      "  df = pd.read_csv(\"data.csv\")\n"
     ]
    }
   ],
   "source": [
    "df = pd.read_csv(\"data.csv\")"
   ]
  },
  {
   "cell_type": "code",
   "execution_count": 5,
   "id": "0b2a3e17-7b8f-4cfd-83b7-b8ba6aa402ef",
   "metadata": {
    "tags": []
   },
   "outputs": [
    {
     "data": {
      "text/plain": [
       "array(['11 تا 50 نفر', '51 تا 200 نفر', 'بیش از 5000 نفر',\n",
       "       '501 تا 1000 نفر', '201 تا 500 نفر', '1001 تا 5000 نفر',\n",
       "       'زیر 10 نفر', '11 - 50 employees', '501 - 1000 employees', nan,\n",
       "       '1001 - 5000 employees', '51 - 200 employees',\n",
       "       '201 - 500 employees', 'More than 5001 employees',\n",
       "       'Less than 10 employees'], dtype=object)"
      ]
     },
     "execution_count": 5,
     "metadata": {},
     "output_type": "execute_result"
    }
   ],
   "source": [
    "df[\"company_size\"].unique()"
   ]
  },
  {
   "cell_type": "code",
   "execution_count": 6,
   "id": "e446d581-2c88-4fd7-9976-3dfed63885fc",
   "metadata": {
    "tags": []
   },
   "outputs": [
    {
     "data": {
      "text/plain": [
       "Index(['company_size', 'education', 'gender', 'salary', 'workdays', 'language',\n",
       "       'business_trip', 'age', 'industry', 'bonus', 'location', 'ad_name',\n",
       "       'softwares', 'military_services', 'experience', 'date'],\n",
       "      dtype='object')"
      ]
     },
     "execution_count": 6,
     "metadata": {},
     "output_type": "execute_result"
    }
   ],
   "source": [
    "df.columns"
   ]
  },
  {
   "cell_type": "code",
   "execution_count": null,
   "id": "1e27c36b-ab8e-4928-a88a-de26808c4da8",
   "metadata": {},
   "outputs": [],
   "source": [
    "# A dictionary to map Persian/English categories to their midpoints\n",
    "size_mapping = {\n",
    "    '11 تا 50 نفر': '30', \n",
    "    '51 تا 200 نفر': '125', \n",
    "    'بیش از 5000 نفر': '5000+', \n",
    "    '501 تا 1000 نفر': '750', \n",
    "    '201 تا 500 نفر': '350', \n",
    "    '1001 تا 5000 نفر': '3000', \n",
    "    'زیر 10 نفر': '<10', \n",
    "    '11 - 50 employees': '30', \n",
    "    '501 - 1000 employees': '750', \n",
    "    '1001 - 5000 employees': '3000', \n",
    "    '51 - 200 employees': '125', \n",
    "    '201 - 500 employees': '350', \n",
    "    'More than 5001 employees': '5000+', \n",
    "    'Less than 10 employees': '<10'\n",
    "}\n",
    "\n",
    "# Replace the values using the map\n",
    "df['company_size'] = df['company_size'].map(size_mapping)\n",
    "\n",
    "# For NaN values, you could either fill them with a placeholder like 'Unknown' or you could leave them as NaN if you wish to represent missing data\n",
    "df['company_size'].fillna('Unknown', inplace=True)"
   ]
  }
 ],
 "metadata": {
  "kernelspec": {
   "display_name": "Python 3 (ipykernel)",
   "language": "python",
   "name": "python3"
  },
  "language_info": {
   "codemirror_mode": {
    "name": "ipython",
    "version": 3
   },
   "file_extension": ".py",
   "mimetype": "text/x-python",
   "name": "python",
   "nbconvert_exporter": "python",
   "pygments_lexer": "ipython3",
   "version": "3.10.11"
  }
 },
 "nbformat": 4,
 "nbformat_minor": 5
}
