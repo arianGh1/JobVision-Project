{
 "cells": [
  {
   "cell_type": "code",
   "execution_count": 3,
   "id": "004ec3b5-7d3a-4a35-9604-7baafbea5813",
   "metadata": {
    "tags": []
   },
   "outputs": [],
   "source": [
    "import time\n",
    "import requests\n",
    "from selenium import webdriver\n",
    "from bs4 import BeautifulSoup\n",
    "from urllib.parse import urljoin\n",
    "import csv\n",
    "import pickle\n",
    "import numpy as np\n",
    "import pandas as pd\n",
    "import pickle\n",
    "\n",
    "from multiprocessing import Process\n",
    "from multiprocessing import Pool"
   ]
  },
  {
   "cell_type": "code",
   "execution_count": null,
   "id": "e74a029c-9a5c-4aad-ac00-64cabca5ba79",
   "metadata": {
    "tags": []
   },
   "outputs": [],
   "source": []
  },
  {
   "cell_type": "code",
   "execution_count": 50,
   "id": "e125c8f1-2706-4cc9-b680-a05408e593ba",
   "metadata": {
    "tags": []
   },
   "outputs": [],
   "source": [
    "\n",
    "page = 2\n",
    "address = base_link+str(page)\n",
    "driver = webdriver.Chrome()\n",
    "driver.maximize_window()\n",
    "driver.get(address)\n",
    "time.sleep(1)\n",
    "html_text = driver.page_source\n",
    "soup = BeautifulSoup(html_text,'lxml')\n",
    "time.sleep(1)"
   ]
  },
  {
   "cell_type": "code",
   "execution_count": null,
   "id": "baabfa42-5737-4a6e-a603-c5c44958dc74",
   "metadata": {
    "tags": []
   },
   "outputs": [],
   "source": [
    "jobs = soup.find(\"job-card-list\",class_=\"w-100\")\n",
    "jobs = jobs.find_all(\"a\",class_=\"col-12 row align-items-start rounded pt-3 px-0 mb-3 mb-md-2 position-relative bg-white desktop-job-card pb-3\")\n",
    "links = []\n",
    "links"
   ]
  },
  {
   "cell_type": "code",
   "execution_count": 9,
   "id": "6480ef46-666b-478f-802e-4e10dca4bf09",
   "metadata": {},
   "outputs": [],
   "source": [
    "base_link = \"https://jobvision.ir/jobs?page=\"\n",
    "driver = webdriver.Chrome()\n",
    "driver.maximize_window()\n",
    "\n",
    "for i in range(0,1151):\n",
    "    page = i\n",
    "    address = base_link+str(page)\n",
    "    driver.get(address)\n",
    "    time.sleep(1)\n",
    "    html_text = driver.page_source\n",
    "    soup = BeautifulSoup(html_text,'lxml')\n",
    "    jobs = soup.find(\"job-card-list\",class_=\"w-100\")\n",
    "    jobs = jobs.find_all(\"a\",class_=\"col-12 row align-items-start rounded pt-3 px-0 mb-3 mb-md-2 position-relative bg-white desktop-job-card pb-3\")\n",
    "    \n",
    "    for job in jobs:\n",
    "        links.append(job[\"href\"])\n"
   ]
  },
  {
   "cell_type": "code",
   "execution_count": 11,
   "id": "744168aa-ff88-4f77-b6d3-6c7586424a32",
   "metadata": {},
   "outputs": [],
   "source": [
    "with open(\"urls\", \"wb\") as f:   \n",
    "    pickle.dump(list(set(links)), f) "
   ]
  },
  {
   "cell_type": "code",
   "execution_count": 12,
   "id": "4b256cf4-f7a2-47b3-b19c-98a606a9c9d1",
   "metadata": {
    "tags": []
   },
   "outputs": [
    {
     "data": {
      "text/plain": [
       "34194"
      ]
     },
     "execution_count": 12,
     "metadata": {},
     "output_type": "execute_result"
    }
   ],
   "source": [
    "len(links)"
   ]
  }
 ],
 "metadata": {
  "kernelspec": {
   "display_name": "Python 3 (ipykernel)",
   "language": "python",
   "name": "python3"
  },
  "language_info": {
   "codemirror_mode": {
    "name": "ipython",
    "version": 3
   },
   "file_extension": ".py",
   "mimetype": "text/x-python",
   "name": "python",
   "nbconvert_exporter": "python",
   "pygments_lexer": "ipython3",
   "version": "3.10.11"
  }
 },
 "nbformat": 4,
 "nbformat_minor": 5
}
